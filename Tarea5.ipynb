{
 "cells": [
  {
   "cell_type": "code",
   "execution_count": null,
   "id": "f55f240f",
   "metadata": {},
   "outputs": [],
   "source": [
    "# Abrimos el archivo y separamos el encabezado de los datos. Este archivo está junto a la tarea en el Github \n",
    "# (Solo copielo donde vaya a guardar este código para que le corra el programa)\n",
    "with open('HIV_dataset.csv', 'r') as archivo:\n",
    "    lineas = archivo.readlines()\n",
    "\n",
    "encabezado = lineas[0].strip().split(',')\n",
    "datos = [linea.strip().split(',') for linea in lineas[1:]]\n"
   ]
  },
  {
   "cell_type": "code",
   "execution_count": null,
   "id": "4191d62e",
   "metadata": {},
   "outputs": [
    {
     "name": "stdout",
     "output_type": "stream",
     "text": [
      "Columnas: 10\n",
      "Filas (sin contar encabezado): 698\n"
     ]
    }
   ],
   "source": [
    "#Contamos columnas y filas\n",
    "print(\"Columnas:\", len(encabezado))\n",
    "print(\"Filas (sin contar encabezado):\", len(datos))\n"
   ]
  },
  {
   "cell_type": "code",
   "execution_count": null,
   "id": "d43316b3",
   "metadata": {},
   "outputs": [
    {
     "name": "stdout",
     "output_type": "stream",
     "text": [
      "\n",
      "Primeros 5 registros:\n",
      "['22', 'UNMARRIED', 'NO', 'College Degree', 'YES', 'NO', 'Bar', 'Heterosexual', 'YES', 'POSITIVE']\n",
      "['20', 'UNMARRIED', 'NO', 'College Degree', 'NO', 'YES', 'None', 'Heterosexual', 'NO', 'NEGATIVE']\n",
      "['23', 'Married', 'YES', 'College Degree', 'NO', 'YES', 'None', 'Bisexual', 'NO', 'NEGATIVE']\n",
      "['24', 'Married', 'NO', 'College Degree', 'YES', 'YES', 'Park', 'Heterosexual', 'YES', 'POSITIVE']\n",
      "['18', 'UNMARRIED', 'YES', 'Senior High School', 'YES', 'NO', 'Internet', 'Heterosexual', 'YES', 'POSITIVE']\n"
     ]
    }
   ],
   "source": [
    "#Mostrar los 5 primeros registros\n",
    "print(\"\\nPrimeros 5 registros:\")\n",
    "contador = 0\n",
    "for fila in datos:\n",
    "    print(fila)\n",
    "    contador += 1\n",
    "    if contador == 5:\n",
    "        break\n"
   ]
  },
  {
   "cell_type": "code",
   "execution_count": null,
   "id": "c7b221e1",
   "metadata": {},
   "outputs": [
    {
     "name": "stdout",
     "output_type": "stream",
     "text": [
      "\n",
      "Valores únicos en 'Age': 65\n"
     ]
    }
   ],
   "source": [
    "#Contar valores únicos en la columna Age\n",
    "columna = \"Age\"\n",
    "if columna in encabezado:\n",
    "    pos = encabezado.index(columna)\n",
    "    unicos = []\n",
    "    for fila in datos:\n",
    "        valor = fila[pos]\n",
    "        if valor not in unicos:\n",
    "            unicos.append(valor)\n",
    "    print(f\"\\nValores únicos en '{columna}':\", len(unicos))\n",
    "else:\n",
    "    print(f\"\\nNo se encontró la columna '{columna}'.\")\n"
   ]
  },
  {
   "cell_type": "code",
   "execution_count": null,
   "id": "c49652d1",
   "metadata": {},
   "outputs": [
    {
     "name": "stdout",
     "output_type": "stream",
     "text": [
      "\n",
      "Media de 'Age': 40.02\n"
     ]
    }
   ],
   "source": [
    "#Calcular la media en la columna Age\n",
    "suma = 0\n",
    "cantidad = 0\n",
    "for fila in datos:\n",
    "    try:\n",
    "        valor = float(fila[pos])\n",
    "        suma += valor\n",
    "        cantidad += 1\n",
    "    except:\n",
    "        pass\n",
    "\n",
    "if cantidad > 0:\n",
    "    print(f\"\\nMedia de '{columna}':\", round(suma / cantidad, 2))\n"
   ]
  },
  {
   "cell_type": "code",
   "execution_count": null,
   "id": "55391496",
   "metadata": {},
   "outputs": [
    {
     "name": "stdout",
     "output_type": "stream",
     "text": [
      "Máximo en 'Age': 80.0\n",
      "Mínimo en 'Age': 12.0\n"
     ]
    }
   ],
   "source": [
    "#Obtener el valor máximo y mínimo en la columna Age\n",
    "maximo = None\n",
    "minimo = None\n",
    "for fila in datos:\n",
    "    try:\n",
    "        valor = float(fila[pos])\n",
    "        if maximo is None or valor > maximo:\n",
    "            maximo = valor\n",
    "        if minimo is None or valor < minimo:\n",
    "            minimo = valor\n",
    "    except:\n",
    "        pass\n",
    "\n",
    "print(f\"Máximo en '{columna}':\", maximo)\n",
    "print(f\"Mínimo en '{columna}':\", minimo)\n"
   ]
  },
  {
   "cell_type": "code",
   "execution_count": null,
   "id": "293009b4",
   "metadata": {},
   "outputs": [
    {
     "name": "stdout",
     "output_type": "stream",
     "text": [
      "\n",
      "Histograma simple de edades:\n",
      " 12: ****\n",
      " 13: ******\n",
      " 14: ****\n",
      " 15: ****************************************\n",
      " 16: ********\n",
      " 17: ******\n",
      " 18: **************\n",
      " 19: ******************\n",
      " 20: ******\n",
      " 21: ****************\n",
      " 22: ********\n",
      " 23: **************************\n",
      " 24: ****************\n",
      " 25: **********************\n",
      " 26: ******\n",
      " 27: ********************\n",
      " 28: ******\n",
      " 29: ************\n",
      " 30: ****************\n",
      " 31: ************\n",
      " 32: ********\n",
      " 33: **********\n",
      " 34: **************************************\n",
      " 35: ******\n",
      " 36: **************\n",
      " 37: ******\n",
      " 38: ****************\n",
      " 39: ********\n",
      " 40: ****************\n",
      " 41: ******************\n",
      " 42: ********\n",
      " 43: ****\n",
      " 44: ******\n",
      " 45: **********************************\n",
      " 46: ********\n",
      " 47: **************\n",
      " 48: **\n",
      " 49: ****\n",
      " 50: ************\n",
      " 51: **********\n",
      " 52: ******\n",
      " 53: **\n",
      " 54: ************\n",
      " 55: ****\n",
      " 56: ********************************\n",
      " 57: ******\n",
      " 58: **\n",
      " 59: ********\n",
      " 60: ******\n",
      " 61: ****\n",
      " 62: ******\n",
      " 64: **\n",
      " 65: ******\n",
      " 66: ****\n",
      " 67: ********************\n",
      " 68: ****\n",
      " 69: ******\n",
      " 70: ********************\n",
      " 71: ****\n",
      " 73: **\n",
      " 75: ******\n",
      " 76: ******\n",
      " 78: ************\n",
      " 79: ****\n",
      " 80: ******\n"
     ]
    }
   ],
   "source": [
    "#Histograma simple de edades\n",
    "print(\"\\nHistograma simple de edades:\")\n",
    "frecuencias = {}\n",
    "for fila in datos:\n",
    "    try:\n",
    "        edad = int(float(fila[pos]))\n",
    "        if edad not in frecuencias:\n",
    "            frecuencias[edad] = 1\n",
    "        else:\n",
    "            frecuencias[edad] += 1\n",
    "    except:\n",
    "        pass\n",
    "\n",
    "for edad in sorted(frecuencias):\n",
    "    print(f\"{edad:>3}: {'*' * frecuencias[edad]}\")\n"
   ]
  },
  {
   "cell_type": "code",
   "execution_count": null,
   "id": "8b7195e7",
   "metadata": {},
   "outputs": [
    {
     "name": "stdout",
     "output_type": "stream",
     "text": [
      "\n",
      "Distribución por grupos de edad:\n",
      "  10-19: ████████████████████████████████████████████████████████████████████████████████████████████████████ (100)\n",
      "  20-29: ██████████████████████████████████████████████████████████████████████████████████████████████████████████████████████████████████████████ (138)\n",
      "  30-39: ██████████████████████████████████████████████████████████████████████████████████████████████████████████████████████████████████████ (134)\n",
      "  40-49: ██████████████████████████████████████████████████████████████████████████████████████████████████████████████████ (114)\n",
      "  50-59: ██████████████████████████████████████████████████████████████████████████████████████████████ (94)\n",
      "  60-69: ██████████████████████████████████████████████████████████ (58)\n",
      "  70-79: ██████████████████████████████████████████████████████ (54)\n",
      "  80-89: ██████ (6)\n"
     ]
    }
   ],
   "source": [
    "#Considero que puede encontrar interesante la distribución de grupos por edad\n",
    "grupo_edades = {}\n",
    "\n",
    "for fila in datos:\n",
    "    try:\n",
    "        edad = int(float(fila[pos]))\n",
    "        grupo = (edad // 10) * 10\n",
    "        nombre_grupo = f\"{grupo}-{grupo+9}\"\n",
    "        if nombre_grupo not in grupo_edades:\n",
    "            grupo_edades[nombre_grupo] = 1\n",
    "        else:\n",
    "            grupo_edades[nombre_grupo] += 1\n",
    "    except:\n",
    "        pass\n",
    "\n",
    "print(\"\\nDistribución por grupos de edad:\")\n",
    "for grupo in sorted(grupo_edades.keys()):\n",
    "    print(f\"{grupo:>7}: {'█' * grupo_edades[grupo]} ({grupo_edades[grupo]})\")\n"
   ]
  },
  {
   "cell_type": "code",
   "execution_count": null,
   "id": "8d1c9991",
   "metadata": {},
   "outputs": [],
   "source": []
  }
 ],
 "metadata": {
  "kernelspec": {
   "display_name": "Python 3",
   "language": "python",
   "name": "python3"
  },
  "language_info": {
   "codemirror_mode": {
    "name": "ipython",
    "version": 3
   },
   "file_extension": ".py",
   "mimetype": "text/x-python",
   "name": "python",
   "nbconvert_exporter": "python",
   "pygments_lexer": "ipython3",
   "version": "3.13.0"
  }
 },
 "nbformat": 4,
 "nbformat_minor": 5
}
